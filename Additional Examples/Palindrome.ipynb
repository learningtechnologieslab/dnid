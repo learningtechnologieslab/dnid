{
 "cells": [
  {
   "cell_type": "markdown",
   "id": "c4d2a9b5",
   "metadata": {},
   "source": [
    "\n",
    "\n",
    "### Palindrome"
   ]
  },
  {
   "cell_type": "markdown",
   "id": "04213b6b",
   "metadata": {},
   "source": [
    "**Algorithm**\n",
    "\n",
    "_Example: Race car!_\n",
    "\n",
    "1. Convert everything to lower-case\n",
    "2. Get rid of non-letter characters\n",
    "3. Reverse and compare "
   ]
  },
  {
   "cell_type": "code",
   "execution_count": 8,
   "id": "352ae133",
   "metadata": {},
   "outputs": [
    {
     "name": "stdout",
     "output_type": "stream",
     "text": [
      "Please enter a word or a phrase: Race car!\n"
     ]
    }
   ],
   "source": [
    "text = input(\"Please enter a word or a phrase: \")"
   ]
  },
  {
   "cell_type": "code",
   "execution_count": 10,
   "id": "fb690176",
   "metadata": {},
   "outputs": [
    {
     "name": "stdout",
     "output_type": "stream",
     "text": [
      "race car!\n"
     ]
    }
   ],
   "source": [
    "text = text.lower()\n",
    "print(text)"
   ]
  },
  {
   "cell_type": "markdown",
   "id": "1545b91e",
   "metadata": {},
   "source": [
    "**Stupid Java**\n",
    "<br />\n",
    "for(int i = 0; i<text.lenght; i++){<br />\n",
    "    char letter = text.charAt(i); <br />\n",
    "    System.out.println(letter); <br />\n",
    "}"
   ]
  },
  {
   "cell_type": "code",
   "execution_count": 31,
   "id": "084ed58e",
   "metadata": {},
   "outputs": [
    {
     "name": "stdout",
     "output_type": "stream",
     "text": [
      "racecar\n"
     ]
    }
   ],
   "source": [
    "temp = \"\"\n",
    "for i in range(0, len(text)):\n",
    "    if ord(text[i]) >= ord('a') and ord(text[i]) <= ord('z'):\n",
    "        temp = temp + text[i]\n",
    "print(temp)"
   ]
  },
  {
   "cell_type": "code",
   "execution_count": 32,
   "id": "0516386f",
   "metadata": {},
   "outputs": [
    {
     "name": "stdout",
     "output_type": "stream",
     "text": [
      "Palindrome\n"
     ]
    }
   ],
   "source": [
    "if temp == temp[::-1]:\n",
    "    print(\"Palindrome\")\n",
    "else:\n",
    "    print(\"Not a palindrome\")"
   ]
  },
  {
   "cell_type": "code",
   "execution_count": null,
   "id": "d9ee853d",
   "metadata": {},
   "outputs": [],
   "source": []
  }
 ],
 "metadata": {
  "kernelspec": {
   "display_name": "Python 3 (ipykernel)",
   "language": "python",
   "name": "python3"
  },
  "language_info": {
   "codemirror_mode": {
    "name": "ipython",
    "version": 3
   },
   "file_extension": ".py",
   "mimetype": "text/x-python",
   "name": "python",
   "nbconvert_exporter": "python",
   "pygments_lexer": "ipython3",
   "version": "3.9.13"
  }
 },
 "nbformat": 4,
 "nbformat_minor": 5
}
