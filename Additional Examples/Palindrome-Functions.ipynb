{
 "cells": [
  {
   "cell_type": "markdown",
   "id": "c4d2a9b5",
   "metadata": {},
   "source": [
    "\n",
    "\n",
    "### Palindrome"
   ]
  },
  {
   "cell_type": "code",
   "execution_count": 1,
   "id": "352ae133",
   "metadata": {},
   "outputs": [
    {
     "name": "stdout",
     "output_type": "stream",
     "text": [
      "Please enter a word or a phrase: Bob!\n"
     ]
    }
   ],
   "source": [
    "text = input(\"Please enter a word or a phrase: \")"
   ]
  },
  {
   "cell_type": "code",
   "execution_count": 2,
   "id": "fb690176",
   "metadata": {},
   "outputs": [
    {
     "name": "stdout",
     "output_type": "stream",
     "text": [
      "bob!\n"
     ]
    }
   ],
   "source": [
    "text = text.lower()\n",
    "print(text)"
   ]
  },
  {
   "cell_type": "code",
   "execution_count": 3,
   "id": "084ed58e",
   "metadata": {},
   "outputs": [
    {
     "name": "stdout",
     "output_type": "stream",
     "text": [
      "bob\n"
     ]
    }
   ],
   "source": [
    "temp = \"\"\n",
    "for i in range(0, len(text)):\n",
    "    if ord(text[i]) >= ord('a') and ord(text[i]) <= ord('z'):\n",
    "        temp = temp + text[i]\n",
    "print(temp)"
   ]
  },
  {
   "cell_type": "code",
   "execution_count": 4,
   "id": "0516386f",
   "metadata": {},
   "outputs": [
    {
     "name": "stdout",
     "output_type": "stream",
     "text": [
      "Palindrome\n"
     ]
    }
   ],
   "source": [
    "if temp == temp[::-1]:\n",
    "    print(\"Palindrome\")\n",
    "else:\n",
    "    print(\"Not a palindrome\")"
   ]
  },
  {
   "cell_type": "markdown",
   "id": "4c30e3ec",
   "metadata": {},
   "source": [
    "String cleanString(String text){\n",
    "    \n",
    "    // Cleaning\n",
    "    return cleanText;\n",
    "    \n",
    "}"
   ]
  },
  {
   "cell_type": "code",
   "execution_count": 23,
   "id": "61c93de1",
   "metadata": {},
   "outputs": [],
   "source": [
    "def clean_text(text):\n",
    "    text = text.lower()\n",
    "    \n",
    "    temp = \"\"\n",
    "    for i in range(0, len(text)):\n",
    "        if ord(text[i]) >= ord('a') and ord(text[i]) <= ord('z'):\n",
    "            temp = temp + text[i]\n",
    "    return temp\n",
    "\n",
    "def is_palindrome(text):\n",
    "    text = clean_text(text)\n",
    "    if text == text[::-1]:\n",
    "        return True\n",
    "    else:\n",
    "        return False"
   ]
  },
  {
   "cell_type": "code",
   "execution_count": 25,
   "id": "692942da",
   "metadata": {},
   "outputs": [
    {
     "name": "stdout",
     "output_type": "stream",
     "text": [
      "False\n"
     ]
    }
   ],
   "source": [
    "print(is_palindrome(\"What is your name?\"))"
   ]
  },
  {
   "cell_type": "code",
   "execution_count": 10,
   "id": "db1312a0",
   "metadata": {},
   "outputs": [],
   "source": [
    "def add_numbers(a, b, c=0):\n",
    "    return a+b+c"
   ]
  },
  {
   "cell_type": "code",
   "execution_count": 11,
   "id": "17e9eea3",
   "metadata": {},
   "outputs": [
    {
     "data": {
      "text/plain": [
       "15"
      ]
     },
     "execution_count": 11,
     "metadata": {},
     "output_type": "execute_result"
    }
   ],
   "source": [
    "add_numbers(5, 10)"
   ]
  },
  {
   "cell_type": "code",
   "execution_count": 12,
   "id": "ad32e9c1",
   "metadata": {},
   "outputs": [],
   "source": [
    "def do_math(a, b, operand=\"+\"):\n",
    "    if operand == \"+\":\n",
    "        return a+b\n",
    "    elif operand == \"-\":\n",
    "        return a-b\n",
    "    elif operand == \"*\":\n",
    "        return a*b\n",
    "    elif operand == \"/\":\n",
    "        return a/b"
   ]
  },
  {
   "cell_type": "code",
   "execution_count": 13,
   "id": "3941fc6b",
   "metadata": {},
   "outputs": [
    {
     "data": {
      "text/plain": [
       "5"
      ]
     },
     "execution_count": 13,
     "metadata": {},
     "output_type": "execute_result"
    }
   ],
   "source": [
    "do_math(2, 3)"
   ]
  },
  {
   "cell_type": "code",
   "execution_count": 14,
   "id": "4324f38f",
   "metadata": {},
   "outputs": [
    {
     "data": {
      "text/plain": [
       "6"
      ]
     },
     "execution_count": 14,
     "metadata": {},
     "output_type": "execute_result"
    }
   ],
   "source": [
    "do_math(2, 3, \"*\")"
   ]
  },
  {
   "cell_type": "code",
   "execution_count": 15,
   "id": "c9f91c57",
   "metadata": {},
   "outputs": [],
   "source": [
    "def do_all_math(a, b):\n",
    "    return a+b, a-b, a*b, a/b, a**b"
   ]
  },
  {
   "cell_type": "code",
   "execution_count": 16,
   "id": "b8082cec",
   "metadata": {},
   "outputs": [
    {
     "data": {
      "text/plain": [
       "(11, -1, 30, 0.8333333333333334, 15625)"
      ]
     },
     "execution_count": 16,
     "metadata": {},
     "output_type": "execute_result"
    }
   ],
   "source": [
    "do_all_math(5, 6)"
   ]
  },
  {
   "cell_type": "code",
   "execution_count": 17,
   "id": "63026eda",
   "metadata": {},
   "outputs": [],
   "source": [
    "s, d, m, q, p = do_all_math(5, 6)"
   ]
  },
  {
   "cell_type": "code",
   "execution_count": 18,
   "id": "cc9fca6a",
   "metadata": {},
   "outputs": [
    {
     "name": "stdout",
     "output_type": "stream",
     "text": [
      "11\n"
     ]
    }
   ],
   "source": [
    "print(s)"
   ]
  },
  {
   "cell_type": "code",
   "execution_count": 19,
   "id": "80c21bdd",
   "metadata": {},
   "outputs": [
    {
     "name": "stdout",
     "output_type": "stream",
     "text": [
      "-1\n"
     ]
    }
   ],
   "source": [
    "print(d)"
   ]
  },
  {
   "cell_type": "code",
   "execution_count": null,
   "id": "d9da1fa7",
   "metadata": {},
   "outputs": [],
   "source": []
  }
 ],
 "metadata": {
  "kernelspec": {
   "display_name": "Python 3 (ipykernel)",
   "language": "python",
   "name": "python3"
  },
  "language_info": {
   "codemirror_mode": {
    "name": "ipython",
    "version": 3
   },
   "file_extension": ".py",
   "mimetype": "text/x-python",
   "name": "python",
   "nbconvert_exporter": "python",
   "pygments_lexer": "ipython3",
   "version": "3.9.13"
  }
 },
 "nbformat": 4,
 "nbformat_minor": 5
}
