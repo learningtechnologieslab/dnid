{
 "cells": [
  {
   "cell_type": "markdown",
   "id": "c4d2a9b5",
   "metadata": {},
   "source": [
    "\n",
    "\n",
    "### Palindrome"
   ]
  },
  {
   "cell_type": "code",
   "execution_count": 1,
   "id": "352ae133",
   "metadata": {},
   "outputs": [
    {
     "name": "stdout",
     "output_type": "stream",
     "text": [
      "Please enter a word or a phrase: Bob\n"
     ]
    }
   ],
   "source": [
    "text = input(\"Please enter a word or a phrase: \")"
   ]
  },
  {
   "cell_type": "code",
   "execution_count": 5,
   "id": "084ed58e",
   "metadata": {},
   "outputs": [
    {
     "name": "stdout",
     "output_type": "stream",
     "text": [
      "bob\n"
     ]
    }
   ],
   "source": [
    "text = text.lower()\n",
    "temp = \"\"\n",
    "for i in range(0, len(text)):\n",
    "    if ord(text[i]) >= ord('a') and ord(text[i]) <= ord('z'):\n",
    "        temp = temp + text[i]\n",
    "print(temp)"
   ]
  },
  {
   "cell_type": "code",
   "execution_count": 4,
   "id": "0516386f",
   "metadata": {},
   "outputs": [
    {
     "name": "stdout",
     "output_type": "stream",
     "text": [
      "Palindrome\n"
     ]
    }
   ],
   "source": [
    "if temp == temp[::-1]:\n",
    "    print(\"Palindrome\")\n",
    "else:\n",
    "    print(\"Not a palindrome\")"
   ]
  },
  {
   "cell_type": "markdown",
   "id": "ebce15b9",
   "metadata": {},
   "source": [
    "String cleanString(String text){\n",
    "\n",
    "    // cleaning\n",
    "    \n",
    "    return text;\n",
    " \n",
    "}\n",
    "\n",
    "String cleanString(String text, String filter){\n",
    "\n",
    "}"
   ]
  },
  {
   "cell_type": "code",
   "execution_count": 10,
   "id": "39e47e11",
   "metadata": {},
   "outputs": [],
   "source": [
    "def add_numbers(a, b, c=0):\n",
    "    return a + b + c"
   ]
  },
  {
   "cell_type": "code",
   "execution_count": 12,
   "id": "17bf4f31",
   "metadata": {},
   "outputs": [
    {
     "data": {
      "text/plain": [
       "35"
      ]
     },
     "execution_count": 12,
     "metadata": {},
     "output_type": "execute_result"
    }
   ],
   "source": [
    "add_numbers(5, 10, 20)"
   ]
  },
  {
   "cell_type": "code",
   "execution_count": 13,
   "id": "0954d16c",
   "metadata": {},
   "outputs": [],
   "source": [
    "def do_math(a, b):\n",
    "    return a+b, a-b, a*b, a/b, a**b"
   ]
  },
  {
   "cell_type": "code",
   "execution_count": 14,
   "id": "610d6002",
   "metadata": {},
   "outputs": [
    {
     "data": {
      "text/plain": [
       "(7, 3, 10, 2.5, 25)"
      ]
     },
     "execution_count": 14,
     "metadata": {},
     "output_type": "execute_result"
    }
   ],
   "source": [
    "do_math(5, 2)"
   ]
  },
  {
   "cell_type": "code",
   "execution_count": 15,
   "id": "1f4df010",
   "metadata": {},
   "outputs": [],
   "source": [
    "s, d, p, q, e = do_math(5, 2)"
   ]
  },
  {
   "cell_type": "code",
   "execution_count": 16,
   "id": "8c8c02ba",
   "metadata": {},
   "outputs": [
    {
     "name": "stdout",
     "output_type": "stream",
     "text": [
      "7\n"
     ]
    }
   ],
   "source": [
    "print(s)"
   ]
  },
  {
   "cell_type": "code",
   "execution_count": 17,
   "id": "a86fde6c",
   "metadata": {},
   "outputs": [
    {
     "name": "stdout",
     "output_type": "stream",
     "text": [
      "3\n"
     ]
    }
   ],
   "source": [
    "print(d)"
   ]
  },
  {
   "cell_type": "code",
   "execution_count": null,
   "id": "52978175",
   "metadata": {},
   "outputs": [],
   "source": []
  }
 ],
 "metadata": {
  "kernelspec": {
   "display_name": "Python 3 (ipykernel)",
   "language": "python",
   "name": "python3"
  },
  "language_info": {
   "codemirror_mode": {
    "name": "ipython",
    "version": 3
   },
   "file_extension": ".py",
   "mimetype": "text/x-python",
   "name": "python",
   "nbconvert_exporter": "python",
   "pygments_lexer": "ipython3",
   "version": "3.9.13"
  }
 },
 "nbformat": 4,
 "nbformat_minor": 5
}
